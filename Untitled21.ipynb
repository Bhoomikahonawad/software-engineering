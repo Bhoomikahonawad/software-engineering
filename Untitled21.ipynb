{
  "nbformat": 4,
  "nbformat_minor": 0,
  "metadata": {
    "colab": {
      "provenance": []
    },
    "kernelspec": {
      "name": "python3",
      "display_name": "Python 3"
    },
    "language_info": {
      "name": "python"
    }
  },
  "cells": [
    {
      "cell_type": "code",
      "execution_count": 2,
      "metadata": {
        "colab": {
          "base_uri": "https://localhost:8080/"
        },
        "id": "A0QWRredrSCh",
        "outputId": "42e312e7-ec8a-40a6-822e-708149665100"
      },
      "outputs": [
        {
          "output_type": "stream",
          "name": "stdout",
          "text": [
            "welcome to weather predction\n",
            "enter the temprature:28\n",
            "enter the humidity:70\n",
            "enter wind speed:20\n",
            "prediction:summy\n"
          ]
        }
      ],
      "source": [
        "print (\"welcome to weather predction\")\n",
        "t=float(input(\"enter the temprature:\"))\n",
        "h=float(input(\"enter the humidity:\"))\n",
        "wind=float(input(\"enter wind speed:\"))\n",
        "w=0.5*(t*t)-0.2**(h)+(0.1*wind)-15\n",
        "if w>300:\n",
        "  print(\"prediction:summy\")\n",
        "elif w<=300 & w>200:\n",
        "  print(\"prediction:cloudy\")\n",
        "elif w<=200 & w>100:\n",
        "  print(\"prediction:rainy\")\n",
        "elif w<=100:\n",
        "  print(\"prediction:stormy\")"
      ]
    }
  ]
}